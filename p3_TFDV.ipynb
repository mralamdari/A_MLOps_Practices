{
  "nbformat": 4,
  "nbformat_minor": 0,
  "metadata": {
    "colab": {
      "provenance": [],
      "authorship_tag": "ABX9TyOtoDr7wcPpvKmyCTHblhPN",
      "include_colab_link": true
    },
    "kernelspec": {
      "name": "python3",
      "display_name": "Python 3"
    },
    "language_info": {
      "name": "python"
    }
  },
  "cells": [
    {
      "cell_type": "markdown",
      "metadata": {
        "id": "view-in-github",
        "colab_type": "text"
      },
      "source": [
        "<a href=\"https://colab.research.google.com/github/mralamdari/A_MLOps_Practives/blob/main/p3_TFDV.ipynb\" target=\"_parent\"><img src=\"https://colab.research.google.com/assets/colab-badge.svg\" alt=\"Open In Colab\"/></a>"
      ]
    },
    {
      "cell_type": "code",
      "source": [
        "import os\n",
        "from IPython.display import clear_output"
      ],
      "metadata": {
        "id": "devkJBi5GO3e"
      },
      "execution_count": 2,
      "outputs": []
    },
    {
      "cell_type": "code",
      "source": [
        "!pip install tensorflow-data-validation\n",
        "clear_output()"
      ],
      "metadata": {
        "id": "CGchAVAqrsrZ"
      },
      "execution_count": 3,
      "outputs": []
    },
    {
      "cell_type": "code",
      "source": [
        "def add_extra_rows(df):\n",
        "    rows = [\n",
        "        {\n",
        "            'age': 46,\n",
        "            'fnlwgt': 257473,\n",
        "            'education': 'Bachelors',\n",
        "            'education-num': 8,\n",
        "            'marital-status': 'Married-civ-spouse',\n",
        "            'occupation': 'Plumber',\n",
        "            'relationship': 'Husband',\n",
        "            'race': 'Other',\n",
        "            'sex': 'Male',\n",
        "            'capital-gain': 1000,\n",
        "            'capital-loss': 0,\n",
        "            'hours-per-week': 41,\n",
        "            'native-country': 'Australia',\n",
        "            'label': '>50K'\n",
        "        },\n",
        "        {\n",
        "            'age': 0,\n",
        "            'workclass': 'Private',\n",
        "            'fnlwgt': 257473,\n",
        "            'education': 'Masters',\n",
        "            'education-num': 8,\n",
        "            'marital-status': 'Married-civ-spouse',\n",
        "            'occupation': 'Adm-clerical',\n",
        "            'relationship': 'Wife',\n",
        "            'race': 'Asian',\n",
        "            'sex': 'Female',\n",
        "            'capital-gain': 0,\n",
        "            'capital-loss': 0,\n",
        "            'hours-per-week': 40,\n",
        "            'native-country': 'Pakistan',\n",
        "            'label': '>50K'\n",
        "        },\n",
        "        {\n",
        "            'age': 1000,\n",
        "            'workclass': 'Private',\n",
        "            'fnlwgt': 257473,\n",
        "            'education': 'Masters',\n",
        "            'education-num': 8,\n",
        "            'marital-status': 'Married-civ-spouse',\n",
        "            'occupation': 'Prof-specialty',\n",
        "            'relationship': 'Husband',\n",
        "            'race': 'Black',\n",
        "            'sex': 'Male',\n",
        "            'capital-gain': 0,\n",
        "            'capital-loss': 0,\n",
        "            'hours-per-week': 20,\n",
        "            'native-country': 'Cameroon',\n",
        "            'label': '<=50K'\n",
        "        },\n",
        "        {\n",
        "            'age': 25,\n",
        "            'workclass': '?',\n",
        "            'fnlwgt': 257473,\n",
        "            'education': 'Masters',\n",
        "            'education-num': 8,\n",
        "            'marital-status': 'Married-civ-spouse',\n",
        "            'occupation': 'gamer',\n",
        "            'relationship': 'Husband',\n",
        "            'race': 'Asian',\n",
        "            'sex': 'Female',\n",
        "            'capital-gain': 0,\n",
        "            'capital-loss': 0,\n",
        "            'hours-per-week': 50,\n",
        "            'native-country': 'Mongolia',\n",
        "            'label': '<=50K'\n",
        "        }\n",
        "    ]\n",
        "\n",
        "    df = df.append(rows, ignore_index=True)\n",
        "\n",
        "    return df"
      ],
      "metadata": {
        "id": "gI0Oz4AmMTMD"
      },
      "execution_count": 4,
      "outputs": []
    },
    {
      "cell_type": "code",
      "source": [
        "from google.colab import drive\n",
        "drive.mount('/content/drive')"
      ],
      "metadata": {
        "colab": {
          "base_uri": "https://localhost:8080/"
        },
        "id": "PKnZP8xXNBtn",
        "outputId": "81c6fb53-df96-43f7-90bb-15bbb93a7c80"
      },
      "execution_count": 6,
      "outputs": [
        {
          "output_type": "stream",
          "name": "stdout",
          "text": [
            "Mounted at /content/drive\n"
          ]
        }
      ]
    },
    {
      "cell_type": "code",
      "source": [
        "import tensorflow as tf\n",
        "import tensorflow_data_validation as tfdv\n",
        "import pandas as pd\n",
        "\n",
        "from sklearn.model_selection import train_test_split\n",
        "# from util import add_extra_rows\n",
        "\n",
        "from tensorflow_metadata.proto.v0 import schema_pb2\n",
        "\n",
        "print('TFDV Version: {}'.format(tfdv.__version__))\n",
        "print('Tensorflow Version: {}'.format(tf.__version__))"
      ],
      "metadata": {
        "id": "DVLt1NSGpVex"
      },
      "execution_count": null,
      "outputs": []
    },
    {
      "cell_type": "code",
      "execution_count": null,
      "metadata": {
        "id": "xKsl4v9kompD"
      },
      "outputs": [],
      "source": [
        "http://archive.ics.uci.edu/static/public/20/census+income.zip"
      ]
    },
    {
      "cell_type": "code",
      "source": [
        "df = pd.read_csv('data/diabetic_data.csv', header=0, na_values = '?')\n",
        "\n",
        "df.head()"
      ],
      "metadata": {
        "id": "p-WlUxWtffuH"
      },
      "execution_count": null,
      "outputs": []
    },
    {
      "cell_type": "code",
      "source": [
        "# grader-required-cell\n",
        "\n",
        "def prepare_data_splits_from_dataframe(df):\n",
        "    '''\n",
        "    Splits a Pandas Dataframe into training, evaluation and serving sets.\n",
        "\n",
        "    Parameters:\n",
        "            df : pandas dataframe to split\n",
        "\n",
        "    Returns:\n",
        "            train_df: Training dataframe(70% of the entire dataset)\n",
        "            eval_df: Evaluation dataframe (15% of the entire dataset)\n",
        "            serving_df: Serving dataframe (15% of the entire dataset, label column dropped)\n",
        "    '''\n",
        "\n",
        "    # 70% of records for generating the training set\n",
        "    train_len = int(len(df) * 0.7)\n",
        "\n",
        "    # Remaining 30% of records for generating the evaluation and serving sets\n",
        "    eval_serv_len = len(df) - train_len\n",
        "\n",
        "    # Half of the 30%, which makes up 15% of total records, for generating the evaluation set\n",
        "    eval_len = eval_serv_len // 2\n",
        "\n",
        "    # Remaining 15% of total records for generating the serving set\n",
        "    serv_len = eval_serv_len - eval_len\n",
        "\n",
        "    # Split the dataframe into the three subsets\n",
        "    train_df = df.iloc[:train_len].reset_index(drop=True)\n",
        "    eval_df = df.iloc[train_len: train_len + eval_len].reset_index(drop=True)\n",
        "    serving_df = df.iloc[train_len + eval_len: train_len + eval_len + serv_len].reset_index(drop=True)\n",
        "\n",
        "    # Serving data emulates the data that would be submitted for predictions, so it should not have the label column.\n",
        "    serving_df = serving_df.drop(['readmitted'], axis=1)\n",
        "\n",
        "    return train_df, eval_df, serving_df"
      ],
      "metadata": {
        "id": "5tO24Xtgfj3B"
      },
      "execution_count": null,
      "outputs": []
    }
  ]
}