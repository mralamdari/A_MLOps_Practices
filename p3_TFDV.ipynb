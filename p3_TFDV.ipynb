{
  "nbformat": 4,
  "nbformat_minor": 0,
  "metadata": {
    "colab": {
      "provenance": [],
      "authorship_tag": "ABX9TyNy6v+54tI4eeO7/8h3YqVH",
      "include_colab_link": true
    },
    "kernelspec": {
      "name": "python3",
      "display_name": "Python 3"
    },
    "language_info": {
      "name": "python"
    }
  },
  "cells": [
    {
      "cell_type": "markdown",
      "metadata": {
        "id": "view-in-github",
        "colab_type": "text"
      },
      "source": [
        "<a href=\"https://colab.research.google.com/github/mralamdari/A_MLOps_Practives/blob/main/p3_TFDV.ipynb\" target=\"_parent\"><img src=\"https://colab.research.google.com/assets/colab-badge.svg\" alt=\"Open In Colab\"/></a>"
      ]
    },
    {
      "cell_type": "code",
      "source": [
        "import os\n",
        "from IPython.display import clear_output"
      ],
      "metadata": {
        "id": "devkJBi5GO3e"
      },
      "execution_count": 2,
      "outputs": []
    },
    {
      "cell_type": "code",
      "source": [
        "!pip install tensorflow-data-validation\n",
        "clear_output()"
      ],
      "metadata": {
        "id": "CGchAVAqrsrZ"
      },
      "execution_count": 3,
      "outputs": []
    },
    {
      "cell_type": "code",
      "source": [
        "def add_extra_rows(df):\n",
        "    rows = [\n",
        "        {\n",
        "            'age': 46,\n",
        "            'fnlwgt': 257473,\n",
        "            'education': 'Bachelors',\n",
        "            'education-num': 8,\n",
        "            'marital-status': 'Married-civ-spouse',\n",
        "            'occupation': 'Plumber',\n",
        "            'relationship': 'Husband',\n",
        "            'race': 'Other',\n",
        "            'sex': 'Male',\n",
        "            'capital-gain': 1000,\n",
        "            'capital-loss': 0,\n",
        "            'hours-per-week': 41,\n",
        "            'native-country': 'Australia',\n",
        "            'label': '>50K'\n",
        "        },\n",
        "        {\n",
        "            'age': 0,\n",
        "            'workclass': 'Private',\n",
        "            'fnlwgt': 257473,\n",
        "            'education': 'Masters',\n",
        "            'education-num': 8,\n",
        "            'marital-status': 'Married-civ-spouse',\n",
        "            'occupation': 'Adm-clerical',\n",
        "            'relationship': 'Wife',\n",
        "            'race': 'Asian',\n",
        "            'sex': 'Female',\n",
        "            'capital-gain': 0,\n",
        "            'capital-loss': 0,\n",
        "            'hours-per-week': 40,\n",
        "            'native-country': 'Pakistan',\n",
        "            'label': '>50K'\n",
        "        },\n",
        "        {\n",
        "            'age': 1000,\n",
        "            'workclass': 'Private',\n",
        "            'fnlwgt': 257473,\n",
        "            'education': 'Masters',\n",
        "            'education-num': 8,\n",
        "            'marital-status': 'Married-civ-spouse',\n",
        "            'occupation': 'Prof-specialty',\n",
        "            'relationship': 'Husband',\n",
        "            'race': 'Black',\n",
        "            'sex': 'Male',\n",
        "            'capital-gain': 0,\n",
        "            'capital-loss': 0,\n",
        "            'hours-per-week': 20,\n",
        "            'native-country': 'Cameroon',\n",
        "            'label': '<=50K'\n",
        "        },\n",
        "        {\n",
        "            'age': 25,\n",
        "            'workclass': '?',\n",
        "            'fnlwgt': 257473,\n",
        "            'education': 'Masters',\n",
        "            'education-num': 8,\n",
        "            'marital-status': 'Married-civ-spouse',\n",
        "            'occupation': 'gamer',\n",
        "            'relationship': 'Husband',\n",
        "            'race': 'Asian',\n",
        "            'sex': 'Female',\n",
        "            'capital-gain': 0,\n",
        "            'capital-loss': 0,\n",
        "            'hours-per-week': 50,\n",
        "            'native-country': 'Mongolia',\n",
        "            'label': '<=50K'\n",
        "        }\n",
        "    ]\n",
        "\n",
        "    df = df.append(rows, ignore_index=True)\n",
        "\n",
        "    return df"
      ],
      "metadata": {
        "id": "gI0Oz4AmMTMD"
      },
      "execution_count": null,
      "outputs": []
    },
    {
      "cell_type": "code",
      "source": [
        "import tensorflow as tf\n",
        "import tensorflow_data_validation as tfdv\n",
        "import pandas as pd\n",
        "\n",
        "from sklearn.model_selection import train_test_split\n",
        "# from util import add_extra_rows\n",
        "\n",
        "from tensorflow_metadata.proto.v0 import schema_pb2\n",
        "\n",
        "print('TFDV Version: {}'.format(tfdv.__version__))\n",
        "print('Tensorflow Version: {}'.format(tf.__version__))"
      ],
      "metadata": {
        "colab": {
          "base_uri": "https://localhost:8080/",
          "height": 373
        },
        "id": "DVLt1NSGpVex",
        "outputId": "35fd690c-a96d-464d-d178-fc2a95e7edf5"
      },
      "execution_count": null,
      "outputs": [
        {
          "output_type": "error",
          "ename": "ModuleNotFoundError",
          "evalue": "ignored",
          "traceback": [
            "\u001b[0;31m---------------------------------------------------------------------------\u001b[0m",
            "\u001b[0;31mModuleNotFoundError\u001b[0m                       Traceback (most recent call last)",
            "\u001b[0;32m<ipython-input-2-2abdae01da44>\u001b[0m in \u001b[0;36m<cell line: 6>\u001b[0;34m()\u001b[0m\n\u001b[1;32m      4\u001b[0m \u001b[0;34m\u001b[0m\u001b[0m\n\u001b[1;32m      5\u001b[0m \u001b[0;31m# from sklearn.model_selection import train_test_split\u001b[0m\u001b[0;34m\u001b[0m\u001b[0;34m\u001b[0m\u001b[0m\n\u001b[0;32m----> 6\u001b[0;31m \u001b[0;32mfrom\u001b[0m \u001b[0mutil\u001b[0m \u001b[0;32mimport\u001b[0m \u001b[0madd_extra_rows\u001b[0m\u001b[0;34m\u001b[0m\u001b[0;34m\u001b[0m\u001b[0m\n\u001b[0m\u001b[1;32m      7\u001b[0m \u001b[0;34m\u001b[0m\u001b[0m\n\u001b[1;32m      8\u001b[0m \u001b[0;32mfrom\u001b[0m \u001b[0mtensorflow_metadata\u001b[0m\u001b[0;34m.\u001b[0m\u001b[0mproto\u001b[0m\u001b[0;34m.\u001b[0m\u001b[0mv0\u001b[0m \u001b[0;32mimport\u001b[0m \u001b[0mschema_pb2\u001b[0m\u001b[0;34m\u001b[0m\u001b[0;34m\u001b[0m\u001b[0m\n",
            "\u001b[0;31mModuleNotFoundError\u001b[0m: No module named 'util'",
            "",
            "\u001b[0;31m---------------------------------------------------------------------------\u001b[0;32m\nNOTE: If your import is failing due to a missing package, you can\nmanually install dependencies using either !pip or !apt.\n\nTo view examples of installing some common dependencies, click the\n\"Open Examples\" button below.\n\u001b[0;31m---------------------------------------------------------------------------\u001b[0m\n"
          ],
          "errorDetails": {
            "actions": [
              {
                "action": "open_url",
                "actionText": "Open Examples",
                "url": "/notebooks/snippets/importing_libraries.ipynb"
              }
            ]
          }
        }
      ]
    },
    {
      "cell_type": "code",
      "execution_count": null,
      "metadata": {
        "id": "xKsl4v9kompD"
      },
      "outputs": [],
      "source": [
        "http://archive.ics.uci.edu/static/public/20/census+income.zip"
      ]
    }
  ]
}